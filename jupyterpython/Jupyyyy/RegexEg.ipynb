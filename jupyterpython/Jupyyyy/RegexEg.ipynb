{
 "cells": [
  {
   "cell_type": "code",
   "execution_count": 44,
   "id": "d023d8b8",
   "metadata": {},
   "outputs": [
    {
     "name": "stdout",
     "output_type": "stream",
     "text": [
      "try again bitchhhh\n"
     ]
    }
   ],
   "source": [
    "import re\n",
    "string=\"I am a big asshole and the president of assn of assholes in my city\"\n",
    "ss=re.findall(r'asshole',string)\n",
    "se=re.search(r'assholed',string)\n",
    "if(se!=None):\n",
    "    print(se)\n",
    "else:\n",
    "    print(\"try again bitchhhh\")"
   ]
  },
  {
   "cell_type": "code",
   "execution_count": 16,
   "id": "48760828",
   "metadata": {},
   "outputs": [
    {
     "name": "stdout",
     "output_type": "stream",
     "text": [
      "<re.Match object; span=(0, 1), match='I'>\n",
      "None\n"
     ]
    }
   ],
   "source": [
    "string=\"I am a big asshole and the president of assn of assholes in my city\"\n",
    "sd=re.match('I',string)\n",
    "print(sd)\n",
    "sw=re.match('am',string)\n",
    "print(sw)"
   ]
  },
  {
   "cell_type": "code",
   "execution_count": 17,
   "id": "47737ae5",
   "metadata": {},
   "outputs": [
    {
     "name": "stdout",
     "output_type": "stream",
     "text": [
      "You are a big asshole and the president of assn of assholes in my city\n"
     ]
    }
   ],
   "source": [
    "string=\"I am a big asshole and the president of assn of assholes in my city\"\n",
    "sd=re.sub('I am','You are',string)\n",
    "print(sd)"
   ]
  },
  {
   "cell_type": "code",
   "execution_count": 19,
   "id": "e69756f9",
   "metadata": {},
   "outputs": [
    {
     "name": "stdout",
     "output_type": "stream",
     "text": [
      "['I am a big asshole ', 'the president of assn of assholes in my city']\n"
     ]
    }
   ],
   "source": [
    "string=\"I am a big asshole and the president of assn of assholes in my city\"\n",
    "sd=re.split('and ',string)\n",
    "print(sd)"
   ]
  },
  {
   "cell_type": "code",
   "execution_count": null,
   "id": "4698ab22",
   "metadata": {},
   "outputs": [],
   "source": [
    "#{}[]\\^$ meta characters"
   ]
  },
  {
   "cell_type": "code",
   "execution_count": 42,
   "id": "bcdde903",
   "metadata": {},
   "outputs": [
    {
     "name": "stdout",
     "output_type": "stream",
     "text": [
      "['n', 'n']\n"
     ]
    }
   ],
   "source": [
    "string=\"I am a big asshole and the president of assn of assholes in my city.\"\n",
    "sd=re.findall(r'[n]\\b',string)\n",
    "print(sd)"
   ]
  },
  {
   "cell_type": "code",
   "execution_count": 56,
   "id": "eb2b3166",
   "metadata": {},
   "outputs": [
    {
     "name": "stdout",
     "output_type": "stream",
     "text": [
      "['.']\n"
     ]
    }
   ],
   "source": [
    "string=\"I am a big asshole and the president of assn of assholes in my city.\"\n",
    "sd=re.findall(r'[\\.]',string)\n",
    "print(sd)"
   ]
  },
  {
   "cell_type": "code",
   "execution_count": 59,
   "id": "978f22d4",
   "metadata": {},
   "outputs": [
    {
     "name": "stdout",
     "output_type": "stream",
     "text": [
      "['resident ', 'assholes ']\n"
     ]
    }
   ],
   "source": [
    "string=\"I am a big asshole and the president of assn of assholes in my city\"\n",
    "sd=re.findall('[a-z]{8}\\s',string)\n",
    "print(sd)"
   ]
  },
  {
   "cell_type": "code",
   "execution_count": null,
   "id": "5674d803",
   "metadata": {},
   "outputs": [],
   "source": []
  }
 ],
 "metadata": {
  "kernelspec": {
   "display_name": "Python 3 (ipykernel)",
   "language": "python",
   "name": "python3"
  },
  "language_info": {
   "codemirror_mode": {
    "name": "ipython",
    "version": 3
   },
   "file_extension": ".py",
   "mimetype": "text/x-python",
   "name": "python",
   "nbconvert_exporter": "python",
   "pygments_lexer": "ipython3",
   "version": "3.11.5"
  }
 },
 "nbformat": 4,
 "nbformat_minor": 5
}
